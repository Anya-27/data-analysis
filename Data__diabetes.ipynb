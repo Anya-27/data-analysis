{
  "nbformat": 4,
  "nbformat_minor": 0,
  "metadata": {
    "colab": {
      "provenance": [],
      "mount_file_id": "1ImB30yOVrIk_ALJPQcOiW0zxZYn7rttr",
      "authorship_tag": "ABX9TyNlI2ITpY3tM8nS8iRzpzUW",
      "include_colab_link": true
    },
    "kernelspec": {
      "name": "python3",
      "display_name": "Python 3"
    },
    "language_info": {
      "name": "python"
    }
  },
  "cells": [
    {
      "cell_type": "markdown",
      "metadata": {
        "id": "view-in-github",
        "colab_type": "text"
      },
      "source": [
        "<a href=\"https://colab.research.google.com/github/Anya-27/data-analysis/blob/main/Data__diabetes.ipynb\" target=\"_parent\"><img src=\"https://colab.research.google.com/assets/colab-badge.svg\" alt=\"Open In Colab\"/></a>"
      ]
    },
    {
      "cell_type": "markdown",
      "source": [
        "# **Анализ данных для прогнозирования диабета 🧬 🏥**"
      ],
      "metadata": {
        "id": "p4nEYTxc5NkS"
      }
    },
    {
      "cell_type": "markdown",
      "source": [
        "### *Исходные данные были взяты мною с kaggle* : https://www.kaggle.com/datasets/iammustafatz/diabetes-prediction-dataset"
      ],
      "metadata": {
        "id": "Nc4Hem5f5SYj"
      }
    },
    {
      "cell_type": "code",
      "source": [
        "import pandas as pd # импортируем библиотеку pandas\n",
        "import seaborn as sns # импортируем библиотеку seaborn\n",
        "import matplotlib.pyplot as plt # импортируем библиотеку matplotlib"
      ],
      "metadata": {
        "id": "OiRneldB5wPO"
      },
      "execution_count": 157,
      "outputs": []
    },
    {
      "cell_type": "code",
      "source": [
        "df = pd.read_csv('https://raw.githubusercontent.com/Anya-27/data-analysis/main/diabetes_prediction_dataset.csv')\n",
        "# считываем данные"
      ],
      "metadata": {
        "id": "xP2rFRXF6T2H"
      },
      "execution_count": 158,
      "outputs": []
    },
    {
      "cell_type": "markdown",
      "source": [
        "#### Для удобства использования данных dataset дадим расшифровку наименований столбцов ⬇:\n",
        "-**gender** (пол)\n",
        "\n",
        "-**age**  (возраст)\n",
        "\n",
        "-**hypertension**  (гипертония: высокое артериальное давление)\n",
        "\n",
        "-**heart_disease**  (болезни сердца)\n",
        "\n",
        "-**smoking_history**  (история курения)\n",
        "\n",
        "-**bmi**   (body mass index: индекс массы тела)\n",
        "\n",
        "-**HbA1c_level**  (Уровень HbA1c (гемоглобин A1c) — это показатель среднего уровня сахара в крови человека за последние 2–3 месяца)\n",
        "\n",
        "-**blood_glucose_level**  (уровень глюкозы в крови)\n",
        "\n",
        "-**diabetes**  (наличие или отсутствие диабета)\n",
        "\n"
      ],
      "metadata": {
        "id": "ZemLvwkR7KyD"
      }
    },
    {
      "cell_type": "markdown",
      "source": [
        "## **Первичный анализ: ⏳**\n",
        "---\n"
      ],
      "metadata": {
        "id": "9l_He66_-APu"
      }
    },
    {
      "cell_type": "code",
      "source": [
        "df.info() # вывод ключевой информации о данном dataframe"
      ],
      "metadata": {
        "colab": {
          "base_uri": "https://localhost:8080/"
        },
        "id": "enWt-Ff6-BWS",
        "outputId": "27331a31-6ce7-4a2a-d804-896f2279ccec"
      },
      "execution_count": 159,
      "outputs": [
        {
          "output_type": "stream",
          "name": "stdout",
          "text": [
            "<class 'pandas.core.frame.DataFrame'>\n",
            "RangeIndex: 100000 entries, 0 to 99999\n",
            "Data columns (total 9 columns):\n",
            " #   Column               Non-Null Count   Dtype  \n",
            "---  ------               --------------   -----  \n",
            " 0   gender               100000 non-null  object \n",
            " 1   age                  100000 non-null  float64\n",
            " 2   hypertension         100000 non-null  int64  \n",
            " 3   heart_disease        100000 non-null  int64  \n",
            " 4   smoking_history      100000 non-null  object \n",
            " 5   bmi                  100000 non-null  float64\n",
            " 6   HbA1c_level          100000 non-null  float64\n",
            " 7   blood_glucose_level  100000 non-null  int64  \n",
            " 8   diabetes             100000 non-null  int64  \n",
            "dtypes: float64(3), int64(4), object(2)\n",
            "memory usage: 6.9+ MB\n"
          ]
        }
      ]
    },
    {
      "cell_type": "markdown",
      "source": [
        "*Данный dataframe имеет следующую размерность:*"
      ],
      "metadata": {
        "id": "6M2rZWEV-Uvc"
      }
    },
    {
      "cell_type": "code",
      "source": [
        "df.shape # 100 000 строк и 9 столбцов"
      ],
      "metadata": {
        "colab": {
          "base_uri": "https://localhost:8080/"
        },
        "id": "xCpfx0qn-WId",
        "outputId": "b3ad361d-202a-4b87-c136-91cf9590082f"
      },
      "execution_count": 160,
      "outputs": [
        {
          "output_type": "execute_result",
          "data": {
            "text/plain": [
              "(100000, 9)"
            ]
          },
          "metadata": {},
          "execution_count": 160
        }
      ]
    },
    {
      "cell_type": "markdown",
      "source": [
        "**Выведем основные статистические характеристики по каждому числовому признаку в данном dataframe с помощью метода describe:**\n",
        "\n",
        "-count (кол-во наблюдений);\n",
        "\n",
        "-mean (среднее значение);\n",
        "\n",
        "-std (стандартное отклонение : мера разброса возле среднего значения);\n",
        "\n",
        "\n",
        "-min (минимальное значение);\n",
        "\n",
        "-25 % (значение до медианы 25%);\n",
        "\n",
        "-50 % (медиана);\n",
        "\n",
        "-75 % (значение после медианы 25%);\n",
        "\n",
        "-max (максимальное значение)."
      ],
      "metadata": {
        "id": "RkbV5MEt-oMu"
      }
    },
    {
      "cell_type": "code",
      "source": [
        "df.describe()"
      ],
      "metadata": {
        "id": "JKFB1w4P-re1"
      },
      "execution_count": null,
      "outputs": []
    },
    {
      "cell_type": "code",
      "source": [
        "df.head() # вывод первых 5-ти строк dataframe"
      ],
      "metadata": {
        "id": "cClU4KuX_T84"
      },
      "execution_count": null,
      "outputs": []
    },
    {
      "cell_type": "code",
      "source": [
        "df.tail() # вывод последних 5-ти строк dataframe"
      ],
      "metadata": {
        "id": "-2LnhSl__Ypr"
      },
      "execution_count": null,
      "outputs": []
    },
    {
      "cell_type": "markdown",
      "source": [
        "## **Вывод по первичному анализу:**\n",
        "\n",
        "Данный dataframe состоит из 100 тысяч строк и 9 столбцов. Изучив наименование столбцов, можно понять, что почти все они связаны с такой болезнью, как диабет, так как существуют столбцы с различными показателями, измеряемыми при риске возникновения диабета (например: уровень глюкозы в крови человека, уровень гемоглобина) у человека. Также существуют столбцы, связанные с некоторыми признаками образа жизни человека и самим человеком(по типу истории курения, гипертония, возраста, пола), тоже можно их использовать в дальнейшем анализе, и тд."
      ],
      "metadata": {
        "id": "nGh0e4fTIeqU"
      }
    },
    {
      "cell_type": "markdown",
      "source": [
        "## **Подготовка данных для анализа:**"
      ],
      "metadata": {
        "id": "mLlhCxjCG3XG"
      }
    },
    {
      "cell_type": "markdown",
      "source": [
        "*Для корректного анализа данного dataframe удалим строки со значением 'Other' в столбце gender*"
      ],
      "metadata": {
        "id": "XMuR9ixfHLKj"
      }
    },
    {
      "cell_type": "code",
      "source": [
        "df=df[df['gender']!='Other']"
      ],
      "metadata": {
        "id": "cSN5fcDEG8Yr"
      },
      "execution_count": 164,
      "outputs": []
    },
    {
      "cell_type": "markdown",
      "source": [
        "*Исходя из первичного анализа, можно сделать вывод о том, что данный dataframe содержит как численные значения, так и строчные, а также отсутствуют строки со значениями NaN.*"
      ],
      "metadata": {
        "id": "O-PAPHlyZasW"
      }
    },
    {
      "cell_type": "markdown",
      "source": [
        "## **Полноценный анализ 📊 💬 :**\n",
        "---"
      ],
      "metadata": {
        "id": "956rAw6d_ojF"
      }
    },
    {
      "cell_type": "markdown",
      "source": [
        "### *В анализе данного dataframe я поставила себе **цель**:  выяснить, как различные заболевания, образ жизни и признаки способны повысить риск развития диабета у человека.*"
      ],
      "metadata": {
        "id": "Q8L2O9cyMKjT"
      }
    },
    {
      "cell_type": "markdown",
      "source": [
        "### **1 вопрос:**\n",
        "*Какое количество мужчин и женщин представленно в данном dataframe? Кого больше?*\n",
        "\n"
      ],
      "metadata": {
        "id": "ASOBw8W3AqwF"
      }
    },
    {
      "cell_type": "code",
      "source": [
        "sns.countplot(data=df, x='gender')\n",
        "plt.ylabel('кол-во, шт')\n",
        "plt.xlabel('пол')\n",
        "plt.title('Количество мужчин и женщин:')"
      ],
      "metadata": {
        "colab": {
          "base_uri": "https://localhost:8080/",
          "height": 490
        },
        "id": "tN4LZajJBZwQ",
        "outputId": "e9ea341c-11ea-40d3-b718-a97ca22563b7"
      },
      "execution_count": 165,
      "outputs": [
        {
          "output_type": "execute_result",
          "data": {
            "text/plain": [
              "Text(0.5, 1.0, 'Количество мужчин и женщин:')"
            ]
          },
          "metadata": {},
          "execution_count": 165
        },
        {
          "output_type": "display_data",
          "data": {
            "text/plain": [
              "<Figure size 640x480 with 1 Axes>"
            ],
            "image/png": "[encoded data removed]"
          },
          "metadata": {}
        }
      ]
    },
    {
      "cell_type": "markdown",
      "source": [
        "**Делая вывод по 1 вопросу**, можно отметить, что большую часть в данном dataframe занимают женщины (примерно 59 тысяч человек), мужчин же 40 тысяч человек."
      ],
      "metadata": {
        "id": "30BKGBeH2D8c"
      }
    },
    {
      "cell_type": "markdown",
      "source": [
        "### **2 вопрос:**\n",
        "\n",
        "Исходя из вышеполученных данных, определим:\n",
        "\n",
        "*Существует ли зависимость, между гендерным признаком, возрастом и риском получения такого заболевания, как диабет?*"
      ],
      "metadata": {
        "id": "konTldLXLaZk"
      }
    },
    {
      "cell_type": "code",
      "source": [
        "# для того, чтобы определить зависимость между этими признаками, создадим новый столбец gender_numbers с числовыми значениями в виде 1(если пол женский), 0(когда пол мужской)\n",
        "df['gender_numbers'] = df.apply(lambda x: 1 if x['gender'] == 'Male' else 0, axis=1)\n"
      ],
      "metadata": {
        "id": "2x9QWb93Kv6F"
      },
      "execution_count": 166,
      "outputs": []
    },
    {
      "cell_type": "code",
      "source": [
        "# далее, создадим новую таблицу, включающую 3 признака: пол, возраст, наличие диабета\n",
        "df_cut=df[['age', 'gender_numbers', 'diabetes']]"
      ],
      "metadata": {
        "id": "MT5xzBgP4GY2"
      },
      "execution_count": 167,
      "outputs": []
    },
    {
      "cell_type": "code",
      "source": [
        "# проверим, каковы индексы корреляции\n",
        "df_cut.corr()"
      ],
      "metadata": {
        "colab": {
          "base_uri": "https://localhost:8080/",
          "height": 143
        },
        "id": "x3qj0XO788Vi",
        "outputId": "d8e6b443-4e58-4d17-955f-7710aa0f601a"
      },
      "execution_count": 168,
      "outputs": [
        {
          "output_type": "execute_result",
          "data": {
            "text/plain": [
              "                     age  gender_numbers  diabetes\n",
              "age             1.000000       -0.030369  0.257999\n",
              "gender_numbers -0.030369        1.000000  0.037623\n",
              "diabetes        0.257999        0.037623  1.000000"
            ],
            "text/html": [
              "\n",
              "  <div id=\"df-5109ee1f-017d-41e2-b6fd-09d38ed443a6\" class=\"colab-df-container\">\n",
              "    <div>\n",
              "<style scoped>\n",
              "    .dataframe tbody tr th:only-of-type {\n",
              "        vertical-align: middle;\n",
              "    }\n",
              "\n",
              "    .dataframe tbody tr th {\n",
              "        vertical-align: top;\n",
              "    }\n",
              "\n",
              "    .dataframe thead th {\n",
              "        text-align: right;\n",
              "    }\n",
              "</style>\n",
              "<table border=\"1\" class=\"dataframe\">\n",
              "  <thead>\n",
              "    <tr style=\"text-align: right;\">\n",
              "      <th></th>\n",
              "      <th>age</th>\n",
              "      <th>gender_numbers</th>\n",
              "      <th>diabetes</th>\n",
              "    </tr>\n",
              "  </thead>\n",
              "  <tbody>\n",
              "    <tr>\n",
              "      <th>age</th>\n",
              "      <td>1.000000</td>\n",
              "      <td>-0.030369</td>\n",
              "      <td>0.257999</td>\n",
              "    </tr>\n",
              "    <tr>\n",
              "      <th>gender_numbers</th>\n",
              "      <td>-0.030369</td>\n",
              "      <td>1.000000</td>\n",
              "      <td>0.037623</td>\n",
              "    </tr>\n",
              "    <tr>\n",
              "      <th>diabetes</th>\n",
              "      <td>0.257999</td>\n",
              "      <td>0.037623</td>\n",
              "      <td>1.000000</td>\n",
              "    </tr>\n",
              "  </tbody>\n",
              "</table>\n",
              "</div>\n",
              "    <div class=\"colab-df-buttons\">\n",
              "\n",
              "  <div class=\"colab-df-container\">\n",
              "    <button class=\"colab-df-convert\" onclick=\"convertToInteractive('df-5109ee1f-017d-41e2-b6fd-09d38ed443a6')\"\n",
              "            title=\"Convert this dataframe to an interactive table.\"\n",
              "            style=\"display:none;\">\n",
              "\n",
              "  <svg xmlns=\"http://www.w3.org/2000/svg\" height=\"24px\" viewBox=\"0 -960 960 960\">\n",
              "    <path d=\"M120-120v-720h720v720H120Zm60-500h600v-160H180v160Zm220 220h160v-160H400v160Zm0 220h160v-160H400v160ZM180-400h160v-160H180v160Zm440 0h160v-160H620v160ZM180-180h160v-160H180v160Zm440 0h160v-160H620v160Z\"/>\n",
              "  </svg>\n",
              "    </button>\n",
              "\n",
              "  <style>\n",
              "    .colab-df-container {\n",
              "      display:flex;\n",
              "      gap: 12px;\n",
              "    }\n",
              "\n",
              "    .colab-df-convert {\n",
              "      background-color: #E8F0FE;\n",
              "      border: none;\n",
              "      border-radius: 50%;\n",
              "      cursor: pointer;\n",
              "      display: none;\n",
              "      fill: #1967D2;\n",
              "      height: 32px;\n",
              "      padding: 0 0 0 0;\n",
              "      width: 32px;\n",
              "    }\n",
              "\n",
              "    .colab-df-convert:hover {\n",
              "      background-color: #E2EBFA;\n",
              "      box-shadow: 0px 1px 2px rgba(60, 64, 67, 0.3), 0px 1px 3px 1px rgba(60, 64, 67, 0.15);\n",
              "      fill: #174EA6;\n",
              "    }\n",
              "\n",
              "    .colab-df-buttons div {\n",
              "      margin-bottom: 4px;\n",
              "    }\n",
              "\n",
              "    [theme=dark] .colab-df-convert {\n",
              "      background-color: #3B4455;\n",
              "      fill: #D2E3FC;\n",
              "    }\n",
              "\n",
              "    [theme=dark] .colab-df-convert:hover {\n",
              "      background-color: #434B5C;\n",
              "      box-shadow: 0px 1px 3px 1px rgba(0, 0, 0, 0.15);\n",
              "      filter: drop-shadow(0px 1px 2px rgba(0, 0, 0, 0.3));\n",
              "      fill: #FFFFFF;\n",
              "    }\n",
              "  </style>\n",
              "\n",
              "    <script>\n",
              "      const buttonEl =\n",
              "        document.querySelector('#df-5109ee1f-017d-41e2-b6fd-09d38ed443a6 button.colab-df-convert');\n",
              "      buttonEl.style.display =\n",
              "        google.colab.kernel.accessAllowed ? 'block' : 'none';\n",
              "\n",
              "      async function convertToInteractive(key) {\n",
              "        const element = document.querySelector('#df-5109ee1f-017d-41e2-b6fd-09d38ed443a6');\n",
              "        const dataTable =\n",
              "          await google.colab.kernel.invokeFunction('convertToInteractive',\n",
              "                                                    [key], {});\n",
              "        if (!dataTable) return;\n",
              "\n",
              "        const docLinkHtml = 'Like what you see? Visit the ' +\n",
              "          '<a target=\"_blank\" href=https://colab.research.google.com/notebooks/data_table.ipynb>data table notebook</a>'\n",
              "          + ' to learn more about interactive tables.';\n",
              "        element.innerHTML = '';\n",
              "        dataTable['output_type'] = 'display_data';\n",
              "        await google.colab.output.renderOutput(dataTable, element);\n",
              "        const docLink = document.createElement('div');\n",
              "        docLink.innerHTML = docLinkHtml;\n",
              "        element.appendChild(docLink);\n",
              "      }\n",
              "    </script>\n",
              "  </div>\n",
              "\n",
              "\n",
              "<div id=\"df-29ad4890-7334-4cd5-9bcc-eb5524fd44f0\">\n",
              "  <button class=\"colab-df-quickchart\" onclick=\"quickchart('df-29ad4890-7334-4cd5-9bcc-eb5524fd44f0')\"\n",
              "            title=\"Suggest charts\"\n",
              "            style=\"display:none;\">\n",
              "\n",
              "<svg xmlns=\"http://www.w3.org/2000/svg\" height=\"24px\"viewBox=\"0 0 24 24\"\n",
              "     width=\"24px\">\n",
              "    <g>\n",
              "        <path d=\"M19 3H5c-1.1 0-2 .9-2 2v14c0 1.1.9 2 2 2h14c1.1 0 2-.9 2-2V5c0-1.1-.9-2-2-2zM9 17H7v-7h2v7zm4 0h-2V7h2v10zm4 0h-2v-4h2v4z\"/>\n",
              "    </g>\n",
              "</svg>\n",
              "  </button>\n",
              "\n",
              "<style>\n",
              "  .colab-df-quickchart {\n",
              "      --bg-color: #E8F0FE;\n",
              "      --fill-color: #1967D2;\n",
              "      --hover-bg-color: #E2EBFA;\n",
              "      --hover-fill-color: #174EA6;\n",
              "      --disabled-fill-color: #AAA;\n",
              "      --disabled-bg-color: #DDD;\n",
              "  }\n",
              "\n",
              "  [theme=dark] .colab-df-quickchart {\n",
              "      --bg-color: #3B4455;\n",
              "      --fill-color: #D2E3FC;\n",
              "      --hover-bg-color: #434B5C;\n",
              "      --hover-fill-color: #FFFFFF;\n",
              "      --disabled-bg-color: #3B4455;\n",
              "      --disabled-fill-color: #666;\n",
              "  }\n",
              "\n",
              "  .colab-df-quickchart {\n",
              "    background-color: var(--bg-color);\n",
              "    border: none;\n",
              "    border-radius: 50%;\n",
              "    cursor: pointer;\n",
              "    display: none;\n",
              "    fill: var(--fill-color);\n",
              "    height: 32px;\n",
              "    padding: 0;\n",
              "    width: 32px;\n",
              "  }\n",
              "\n",
              "  .colab-df-quickchart:hover {\n",
              "    background-color: var(--hover-bg-color);\n",
              "    box-shadow: 0 1px 2px rgba(60, 64, 67, 0.3), 0 1px 3px 1px rgba(60, 64, 67, 0.15);\n",
              "    fill: var(--button-hover-fill-color);\n",
              "  }\n",
              "\n",
              "  .colab-df-quickchart-complete:disabled,\n",
              "  .colab-df-quickchart-complete:disabled:hover {\n",
              "    background-color: var(--disabled-bg-color);\n",
              "    fill: var(--disabled-fill-color);\n",
              "    box-shadow: none;\n",
              "  }\n",
              "\n",
              "  .colab-df-spinner {\n",
              "    border: 2px solid var(--fill-color);\n",
              "    border-color: transparent;\n",
              "    border-bottom-color: var(--fill-color);\n",
              "    animation:\n",
              "      spin 1s steps(1) infinite;\n",
              "  }\n",
              "\n",
              "  @keyframes spin {\n",
              "    0% {\n",
              "      border-color: transparent;\n",
              "      border-bottom-color: var(--fill-color);\n",
              "      border-left-color: var(--fill-color);\n",
              "    }\n",
              "    20% {\n",
              "      border-color: transparent;\n",
              "      border-left-color: var(--fill-color);\n",
              "      border-top-color: var(--fill-color);\n",
              "    }\n",
              "    30% {\n",
              "      border-color: transparent;\n",
              "      border-left-color: var(--fill-color);\n",
              "      border-top-color: var(--fill-color);\n",
              "      border-right-color: var(--fill-color);\n",
              "    }\n",
              "    40% {\n",
              "      border-color: transparent;\n",
              "      border-right-color: var(--fill-color);\n",
              "      border-top-color: var(--fill-color);\n",
              "    }\n",
              "    60% {\n",
              "      border-color: transparent;\n",
              "      border-right-color: var(--fill-color);\n",
              "    }\n",
              "    80% {\n",
              "      border-color: transparent;\n",
              "      border-right-color: var(--fill-color);\n",
              "      border-bottom-color: var(--fill-color);\n",
              "    }\n",
              "    90% {\n",
              "      border-color: transparent;\n",
              "      border-bottom-color: var(--fill-color);\n",
              "    }\n",
              "  }\n",
              "</style>\n",
              "\n",
              "  <script>\n",
              "    async function quickchart(key) {\n",
              "      const quickchartButtonEl =\n",
              "        document.querySelector('#' + key + ' button');\n",
              "      quickchartButtonEl.disabled = true;  // To prevent multiple clicks.\n",
              "      quickchartButtonEl.classList.add('colab-df-spinner');\n",
              "      try {\n",
              "        const charts = await google.colab.kernel.invokeFunction(\n",
              "            'suggestCharts', [key], {});\n",
              "      } catch (error) {\n",
              "        console.error('Error during call to suggestCharts:', error);\n",
              "      }\n",
              "      quickchartButtonEl.classList.remove('colab-df-spinner');\n",
              "      quickchartButtonEl.classList.add('colab-df-quickchart-complete');\n",
              "    }\n",
              "    (() => {\n",
              "      let quickchartButtonEl =\n",
              "        document.querySelector('#df-29ad4890-7334-4cd5-9bcc-eb5524fd44f0 button');\n",
              "      quickchartButtonEl.style.display =\n",
              "        google.colab.kernel.accessAllowed ? 'block' : 'none';\n",
              "    })();\n",
              "  </script>\n",
              "</div>\n",
              "    </div>\n",
              "  </div>\n"
            ]
          },
          "metadata": {},
          "execution_count": 168
        }
      ]
    },
    {
      "cell_type": "markdown",
      "source": [
        "**Делая вывод по 2 вопросу**, можно отметить, что зависимость между возрастным признаком и наличием/отсутствием диабета минимальна, а между гендерным признаком и наличием/отсутствием диабета связи нет."
      ],
      "metadata": {
        "id": "2nhJxhB4T-Jt"
      }
    },
    {
      "cell_type": "markdown",
      "source": [
        "### **3 вопрос:**"
      ],
      "metadata": {
        "id": "-u6OnkmiObLg"
      }
    },
    {
      "cell_type": "markdown",
      "source": [
        "*Проверим, действительно ли, высокое значение гемоглобина (показатель среднего уровня сахара в крови человека за последние 2–3 месяца) напрямую связанно с возникновением диабета ?*"
      ],
      "metadata": {
        "id": "c8xdu0a2Oh6B"
      }
    },
    {
      "cell_type": "code",
      "source": [
        "# создадим новую таблицу, включающую 2 признака: гемоглобин и наличие/отутствие диабета\n",
        "df_cut_2=df[['HbA1c_level', 'diabetes']]"
      ],
      "metadata": {
        "id": "n4sMd3QsTPL8"
      },
      "execution_count": 169,
      "outputs": []
    },
    {
      "cell_type": "code",
      "source": [
        "# проверим, каковы индексы корреляции\n",
        "df_cut_2.corr()"
      ],
      "metadata": {
        "colab": {
          "base_uri": "https://localhost:8080/",
          "height": 112
        },
        "id": "MbLNUWm8V9Kj",
        "outputId": "8736611e-bc12-4fcf-b0ba-8a4cd39bd3f7"
      },
      "execution_count": 170,
      "outputs": [
        {
          "output_type": "execute_result",
          "data": {
            "text/plain": [
              "             HbA1c_level  diabetes\n",
              "HbA1c_level     1.000000  0.400696\n",
              "diabetes        0.400696  1.000000"
            ],
            "text/html": [
              "\n",
              "  <div id=\"df-bc47a1d6-f22a-4131-8b9c-a28b43477df9\" class=\"colab-df-container\">\n",
              "    <div>\n",
              "<style scoped>\n",
              "    .dataframe tbody tr th:only-of-type {\n",
              "        vertical-align: middle;\n",
              "    }\n",
              "\n",
              "    .dataframe tbody tr th {\n",
              "        vertical-align: top;\n",
              "    }\n",
              "\n",
              "    .dataframe thead th {\n",
              "        text-align: right;\n",
              "    }\n",
              "</style>\n",
              "<table border=\"1\" class=\"dataframe\">\n",
              "  <thead>\n",
              "    <tr style=\"text-align: right;\">\n",
              "      <th></th>\n",
              "      <th>HbA1c_level</th>\n",
              "      <th>diabetes</th>\n",
              "    </tr>\n",
              "  </thead>\n",
              "  <tbody>\n",
              "    <tr>\n",
              "      <th>HbA1c_level</th>\n",
              "      <td>1.000000</td>\n",
              "      <td>0.400696</td>\n",
              "    </tr>\n",
              "    <tr>\n",
              "      <th>diabetes</th>\n",
              "      <td>0.400696</td>\n",
              "      <td>1.000000</td>\n",
              "    </tr>\n",
              "  </tbody>\n",
              "</table>\n",
              "</div>\n",
              "    <div class=\"colab-df-buttons\">\n",
              "\n",
              "  <div class=\"colab-df-container\">\n",
              "    <button class=\"colab-df-convert\" onclick=\"convertToInteractive('df-bc47a1d6-f22a-4131-8b9c-a28b43477df9')\"\n",
              "            title=\"Convert this dataframe to an interactive table.\"\n",
              "            style=\"display:none;\">\n",
              "\n",
              "  <svg xmlns=\"http://www.w3.org/2000/svg\" height=\"24px\" viewBox=\"0 -960 960 960\">\n",
              "    <path d=\"M120-120v-720h720v720H120Zm60-500h600v-160H180v160Zm220 220h160v-160H400v160Zm0 220h160v-160H400v160ZM180-400h160v-160H180v160Zm440 0h160v-160H620v160ZM180-180h160v-160H180v160Zm440 0h160v-160H620v160Z\"/>\n",
              "  </svg>\n",
              "    </button>\n",
              "\n",
              "  <style>\n",
              "    .colab-df-container {\n",
              "      display:flex;\n",
              "      gap: 12px;\n",
              "    }\n",
              "\n",
              "    .colab-df-convert {\n",
              "      background-color: #E8F0FE;\n",
              "      border: none;\n",
              "      border-radius: 50%;\n",
              "      cursor: pointer;\n",
              "      display: none;\n",
              "      fill: #1967D2;\n",
              "      height: 32px;\n",
              "      padding: 0 0 0 0;\n",
              "      width: 32px;\n",
              "    }\n",
              "\n",
              "    .colab-df-convert:hover {\n",
              "      background-color: #E2EBFA;\n",
              "      box-shadow: 0px 1px 2px rgba(60, 64, 67, 0.3), 0px 1px 3px 1px rgba(60, 64, 67, 0.15);\n",
              "      fill: #174EA6;\n",
              "    }\n",
              "\n",
              "    .colab-df-buttons div {\n",
              "      margin-bottom: 4px;\n",
              "    }\n",
              "\n",
              "    [theme=dark] .colab-df-convert {\n",
              "      background-color: #3B4455;\n",
              "      fill: #D2E3FC;\n",
              "    }\n",
              "\n",
              "    [theme=dark] .colab-df-convert:hover {\n",
              "      background-color: #434B5C;\n",
              "      box-shadow: 0px 1px 3px 1px rgba(0, 0, 0, 0.15);\n",
              "      filter: drop-shadow(0px 1px 2px rgba(0, 0, 0, 0.3));\n",
              "      fill: #FFFFFF;\n",
              "    }\n",
              "  </style>\n",
              "\n",
              "    <script>\n",
              "      const buttonEl =\n",
              "        document.querySelector('#df-bc47a1d6-f22a-4131-8b9c-a28b43477df9 button.colab-df-convert');\n",
              "      buttonEl.style.display =\n",
              "        google.colab.kernel.accessAllowed ? 'block' : 'none';\n",
              "\n",
              "      async function convertToInteractive(key) {\n",
              "        const element = document.querySelector('#df-bc47a1d6-f22a-4131-8b9c-a28b43477df9');\n",
              "        const dataTable =\n",
              "          await google.colab.kernel.invokeFunction('convertToInteractive',\n",
              "                                                    [key], {});\n",
              "        if (!dataTable) return;\n",
              "\n",
              "        const docLinkHtml = 'Like what you see? Visit the ' +\n",
              "          '<a target=\"_blank\" href=https://colab.research.google.com/notebooks/data_table.ipynb>data table notebook</a>'\n",
              "          + ' to learn more about interactive tables.';\n",
              "        element.innerHTML = '';\n",
              "        dataTable['output_type'] = 'display_data';\n",
              "        await google.colab.output.renderOutput(dataTable, element);\n",
              "        const docLink = document.createElement('div');\n",
              "        docLink.innerHTML = docLinkHtml;\n",
              "        element.appendChild(docLink);\n",
              "      }\n",
              "    </script>\n",
              "  </div>\n",
              "\n",
              "\n",
              "<div id=\"df-2ae6c3ac-3790-40c1-b069-16fc01b29ade\">\n",
              "  <button class=\"colab-df-quickchart\" onclick=\"quickchart('df-2ae6c3ac-3790-40c1-b069-16fc01b29ade')\"\n",
              "            title=\"Suggest charts\"\n",
              "            style=\"display:none;\">\n",
              "\n",
              "<svg xmlns=\"http://www.w3.org/2000/svg\" height=\"24px\"viewBox=\"0 0 24 24\"\n",
              "     width=\"24px\">\n",
              "    <g>\n",
              "        <path d=\"M19 3H5c-1.1 0-2 .9-2 2v14c0 1.1.9 2 2 2h14c1.1 0 2-.9 2-2V5c0-1.1-.9-2-2-2zM9 17H7v-7h2v7zm4 0h-2V7h2v10zm4 0h-2v-4h2v4z\"/>\n",
              "    </g>\n",
              "</svg>\n",
              "  </button>\n",
              "\n",
              "<style>\n",
              "  .colab-df-quickchart {\n",
              "      --bg-color: #E8F0FE;\n",
              "      --fill-color: #1967D2;\n",
              "      --hover-bg-color: #E2EBFA;\n",
              "      --hover-fill-color: #174EA6;\n",
              "      --disabled-fill-color: #AAA;\n",
              "      --disabled-bg-color: #DDD;\n",
              "  }\n",
              "\n",
              "  [theme=dark] .colab-df-quickchart {\n",
              "      --bg-color: #3B4455;\n",
              "      --fill-color: #D2E3FC;\n",
              "      --hover-bg-color: #434B5C;\n",
              "      --hover-fill-color: #FFFFFF;\n",
              "      --disabled-bg-color: #3B4455;\n",
              "      --disabled-fill-color: #666;\n",
              "  }\n",
              "\n",
              "  .colab-df-quickchart {\n",
              "    background-color: var(--bg-color);\n",
              "    border: none;\n",
              "    border-radius: 50%;\n",
              "    cursor: pointer;\n",
              "    display: none;\n",
              "    fill: var(--fill-color);\n",
              "    height: 32px;\n",
              "    padding: 0;\n",
              "    width: 32px;\n",
              "  }\n",
              "\n",
              "  .colab-df-quickchart:hover {\n",
              "    background-color: var(--hover-bg-color);\n",
              "    box-shadow: 0 1px 2px rgba(60, 64, 67, 0.3), 0 1px 3px 1px rgba(60, 64, 67, 0.15);\n",
              "    fill: var(--button-hover-fill-color);\n",
              "  }\n",
              "\n",
              "  .colab-df-quickchart-complete:disabled,\n",
              "  .colab-df-quickchart-complete:disabled:hover {\n",
              "    background-color: var(--disabled-bg-color);\n",
              "    fill: var(--disabled-fill-color);\n",
              "    box-shadow: none;\n",
              "  }\n",
              "\n",
              "  .colab-df-spinner {\n",
              "    border: 2px solid var(--fill-color);\n",
              "    border-color: transparent;\n",
              "    border-bottom-color: var(--fill-color);\n",
              "    animation:\n",
              "      spin 1s steps(1) infinite;\n",
              "  }\n",
              "\n",
              "  @keyframes spin {\n",
              "    0% {\n",
              "      border-color: transparent;\n",
              "      border-bottom-color: var(--fill-color);\n",
              "      border-left-color: var(--fill-color);\n",
              "    }\n",
              "    20% {\n",
              "      border-color: transparent;\n",
              "      border-left-color: var(--fill-color);\n",
              "      border-top-color: var(--fill-color);\n",
              "    }\n",
              "    30% {\n",
              "      border-color: transparent;\n",
              "      border-left-color: var(--fill-color);\n",
              "      border-top-color: var(--fill-color);\n",
              "      border-right-color: var(--fill-color);\n",
              "    }\n",
              "    40% {\n",
              "      border-color: transparent;\n",
              "      border-right-color: var(--fill-color);\n",
              "      border-top-color: var(--fill-color);\n",
              "    }\n",
              "    60% {\n",
              "      border-color: transparent;\n",
              "      border-right-color: var(--fill-color);\n",
              "    }\n",
              "    80% {\n",
              "      border-color: transparent;\n",
              "      border-right-color: var(--fill-color);\n",
              "      border-bottom-color: var(--fill-color);\n",
              "    }\n",
              "    90% {\n",
              "      border-color: transparent;\n",
              "      border-bottom-color: var(--fill-color);\n",
              "    }\n",
              "  }\n",
              "</style>\n",
              "\n",
              "  <script>\n",
              "    async function quickchart(key) {\n",
              "      const quickchartButtonEl =\n",
              "        document.querySelector('#' + key + ' button');\n",
              "      quickchartButtonEl.disabled = true;  // To prevent multiple clicks.\n",
              "      quickchartButtonEl.classList.add('colab-df-spinner');\n",
              "      try {\n",
              "        const charts = await google.colab.kernel.invokeFunction(\n",
              "            'suggestCharts', [key], {});\n",
              "      } catch (error) {\n",
              "        console.error('Error during call to suggestCharts:', error);\n",
              "      }\n",
              "      quickchartButtonEl.classList.remove('colab-df-spinner');\n",
              "      quickchartButtonEl.classList.add('colab-df-quickchart-complete');\n",
              "    }\n",
              "    (() => {\n",
              "      let quickchartButtonEl =\n",
              "        document.querySelector('#df-2ae6c3ac-3790-40c1-b069-16fc01b29ade button');\n",
              "      quickchartButtonEl.style.display =\n",
              "        google.colab.kernel.accessAllowed ? 'block' : 'none';\n",
              "    })();\n",
              "  </script>\n",
              "</div>\n",
              "    </div>\n",
              "  </div>\n"
            ]
          },
          "metadata": {},
          "execution_count": 170
        }
      ]
    },
    {
      "cell_type": "markdown",
      "source": [
        "Для более наглядного представления зависимости, приведем график, куда также включим возраст людей, так как из 2 второго вопроса мы увидели, что хотя бы минимальная зависимость между признаками возраст и диабет существует."
      ],
      "metadata": {
        "id": "GGwemqMfdOrx"
      }
    },
    {
      "cell_type": "code",
      "source": [
        "sns.scatterplot(data=df, x='diabetes', y='HbA1c_level', hue='age')\n",
        "plt.ylabel('гемоглобин, %')\n",
        "plt.xlabel('диабет')\n",
        "plt.title('Зависимость между гемоглобином, возрастом и наличием диабета:')"
      ],
      "metadata": {
        "colab": {
          "base_uri": "https://localhost:8080/",
          "height": 490
        },
        "id": "4XKlE1gleuPh",
        "outputId": "aee4c30a-505a-4ca4-e323-a0ed2fafc9e8"
      },
      "execution_count": 171,
      "outputs": [
        {
          "output_type": "execute_result",
          "data": {
            "text/plain": [
              "Text(0.5, 1.0, 'Зависимость между гемоглобином, возрастом и наличием диабета:')"
            ]
          },
          "metadata": {},
          "execution_count": 171
        },
        {
          "output_type": "display_data",
          "data": {
            "text/plain": [
              "<Figure size 640x480 with 1 Axes>"
            ],
            "image/png": "[encoded data removed]"
          },
          "metadata": {}
        }
      ]
    },
    {
      "cell_type": "markdown",
      "source": [
        "**Вывод по 3 вопросу:** Коэффициенты корреляции показали, что зависимость между высоким значением гемоглобина и наличием диабета существует. Также, анализируя график, можно отметить, что те, кто отмечали повышенный уровень гемоглобина имеют такое заболевание как диабет, в основном это люди старшего возраста 60-75 лет."
      ],
      "metadata": {
        "id": "OWBNa_NCgce3"
      }
    },
    {
      "cell_type": "markdown",
      "source": [
        "###**4 вопрос:**"
      ],
      "metadata": {
        "id": "bRNPTAVkmQg8"
      }
    },
    {
      "cell_type": "markdown",
      "source": [
        "*Каково распределение уровня глюкозы в крови у людей с диабетом и без него?*"
      ],
      "metadata": {
        "id": "EEiYPIa_vzoO"
      }
    },
    {
      "cell_type": "code",
      "source": [
        "# Построим гистограмму распределения уровня глюкозы в крови\n",
        "sns.histplot(data=df, x='blood_glucose_level', hue='diabetes', element='step')\n",
        "plt.xlabel('Уровень глюкозы в крови, мг/дл')\n",
        "plt.ylabel('Плотность, шт')\n",
        "plt.title('Распределение уровня глюкозы в крови у людей с диабетом и без него')\n",
        "plt.legend(['диабет', 'без диабета'], title='Наличие диабета')\n",
        "plt.show()\n"
      ],
      "metadata": {
        "colab": {
          "base_uri": "https://localhost:8080/",
          "height": 472
        },
        "id": "TYwmYo4uwaHR",
        "outputId": "6b0ae7cc-bb31-4c5a-aad7-3c3c92180d98"
      },
      "execution_count": 172,
      "outputs": [
        {
          "output_type": "display_data",
          "data": {
            "text/plain": [
              "<Figure size 640x480 with 1 Axes>"
            ],
            "image/png": "[encoded data removed]"
          },
          "metadata": {}
        }
      ]
    },
    {
      "cell_type": "markdown",
      "source": [
        "**Делая вывод по 4 вопросу**, можно отметить, что риск получения такого заболевания, как диабет, увеличивается с повышением уровня глюкозы в крови.\n",
        "На графике можно увидеть, что значения,свидетельствующие о наличие диабета, следуют стабильно после уровня глюкозы отметкой в 200."
      ],
      "metadata": {
        "id": "mwCslpYt5XCk"
      }
    },
    {
      "cell_type": "markdown",
      "source": [
        "### ***5:**\n",
        "### **Дополнение ко 2 вопросу исходя из вывода, полученного в 4 вопросе:**"
      ],
      "metadata": {
        "id": "GDui0OwVFmBE"
      }
    },
    {
      "cell_type": "markdown",
      "source": [
        "*Если внимательно проанализировать гистограмму в 4 вопросе, можно понять, почему во 2 вопросе корреляция между возрастом и наличием диабета получилась достаточно слабой, все дело в том, что количество значений в признаке диабет( -есть диабет и -нет диабета) далеко не одинаковое:*\n",
        "\n",
        "Кол-во людей с диабетом составляет :"
      ],
      "metadata": {
        "id": "k0JDXNpmGF5Z"
      }
    },
    {
      "cell_type": "code",
      "source": [
        "df[df['diabetes'] == 1].count()\n",
        "# 8500 человек"
      ],
      "metadata": {
        "colab": {
          "base_uri": "https://localhost:8080/"
        },
        "id": "cwk2ZWCaHqiq",
        "outputId": "447e8b42-79e2-4043-a8f4-bb61903b2c6b"
      },
      "execution_count": 173,
      "outputs": [
        {
          "output_type": "execute_result",
          "data": {
            "text/plain": [
              "gender                 8500\n",
              "age                    8500\n",
              "hypertension           8500\n",
              "heart_disease          8500\n",
              "smoking_history        8500\n",
              "bmi                    8500\n",
              "HbA1c_level            8500\n",
              "blood_glucose_level    8500\n",
              "diabetes               8500\n",
              "gender_numbers         8500\n",
              "dtype: int64"
            ]
          },
          "metadata": {},
          "execution_count": 173
        }
      ]
    },
    {
      "cell_type": "markdown",
      "source": [
        "Кол-во людей без диабета составляет:"
      ],
      "metadata": {
        "id": "GKdo0D-5H_MW"
      }
    },
    {
      "cell_type": "code",
      "source": [
        "df[df['diabetes'] == 0].count()\n",
        "# 91482 человек"
      ],
      "metadata": {
        "colab": {
          "base_uri": "https://localhost:8080/"
        },
        "id": "TCduCRL3H9Ad",
        "outputId": "e0d2db96-4044-470c-d313-835f5dcafc77"
      },
      "execution_count": 174,
      "outputs": [
        {
          "output_type": "execute_result",
          "data": {
            "text/plain": [
              "gender                 91482\n",
              "age                    91482\n",
              "hypertension           91482\n",
              "heart_disease          91482\n",
              "smoking_history        91482\n",
              "bmi                    91482\n",
              "HbA1c_level            91482\n",
              "blood_glucose_level    91482\n",
              "diabetes               91482\n",
              "gender_numbers         91482\n",
              "dtype: int64"
            ]
          },
          "metadata": {},
          "execution_count": 174
        }
      ]
    },
    {
      "cell_type": "markdown",
      "source": [
        "Если рассмотреть корреляцию с равным количеством строк в столбце диабет, можно получить более показательный результат:"
      ],
      "metadata": {
        "id": "3uzXbAgwIaTs"
      }
    },
    {
      "cell_type": "code",
      "source": [
        "df_diabetes = df[df['diabetes'] == 1]\n",
        "df_non_diabetes = df[df['diabetes'] == 0].sample(8500)\n",
        "df_union = pd.concat([df_diabetes, df_non_diabetes])\n",
        "\n",
        "df_union[['age', 'diabetes', 'HbA1c_level']].corr()"
      ],
      "metadata": {
        "colab": {
          "base_uri": "https://localhost:8080/",
          "height": 143
        },
        "id": "IvAPe2yx8xIq",
        "outputId": "3a9daaa2-e45a-4ca9-a5a2-317a7499a738"
      },
      "execution_count": 175,
      "outputs": [
        {
          "output_type": "execute_result",
          "data": {
            "text/plain": [
              "                  age  diabetes  HbA1c_level\n",
              "age          1.000000  0.482018     0.292801\n",
              "diabetes     0.482018  1.000000     0.600619\n",
              "HbA1c_level  0.292801  0.600619     1.000000"
            ],
            "text/html": [
              "\n",
              "  <div id=\"df-d92ba569-be49-485e-8908-d622eb672dfb\" class=\"colab-df-container\">\n",
              "    <div>\n",
              "<style scoped>\n",
              "    .dataframe tbody tr th:only-of-type {\n",
              "        vertical-align: middle;\n",
              "    }\n",
              "\n",
              "    .dataframe tbody tr th {\n",
              "        vertical-align: top;\n",
              "    }\n",
              "\n",
              "    .dataframe thead th {\n",
              "        text-align: right;\n",
              "    }\n",
              "</style>\n",
              "<table border=\"1\" class=\"dataframe\">\n",
              "  <thead>\n",
              "    <tr style=\"text-align: right;\">\n",
              "      <th></th>\n",
              "      <th>age</th>\n",
              "      <th>diabetes</th>\n",
              "      <th>HbA1c_level</th>\n",
              "    </tr>\n",
              "  </thead>\n",
              "  <tbody>\n",
              "    <tr>\n",
              "      <th>age</th>\n",
              "      <td>1.000000</td>\n",
              "      <td>0.482018</td>\n",
              "      <td>0.292801</td>\n",
              "    </tr>\n",
              "    <tr>\n",
              "      <th>diabetes</th>\n",
              "      <td>0.482018</td>\n",
              "      <td>1.000000</td>\n",
              "      <td>0.600619</td>\n",
              "    </tr>\n",
              "    <tr>\n",
              "      <th>HbA1c_level</th>\n",
              "      <td>0.292801</td>\n",
              "      <td>0.600619</td>\n",
              "      <td>1.000000</td>\n",
              "    </tr>\n",
              "  </tbody>\n",
              "</table>\n",
              "</div>\n",
              "    <div class=\"colab-df-buttons\">\n",
              "\n",
              "  <div class=\"colab-df-container\">\n",
              "    <button class=\"colab-df-convert\" onclick=\"convertToInteractive('df-d92ba569-be49-485e-8908-d622eb672dfb')\"\n",
              "            title=\"Convert this dataframe to an interactive table.\"\n",
              "            style=\"display:none;\">\n",
              "\n",
              "  <svg xmlns=\"http://www.w3.org/2000/svg\" height=\"24px\" viewBox=\"0 -960 960 960\">\n",
              "    <path d=\"M120-120v-720h720v720H120Zm60-500h600v-160H180v160Zm220 220h160v-160H400v160Zm0 220h160v-160H400v160ZM180-400h160v-160H180v160Zm440 0h160v-160H620v160ZM180-180h160v-160H180v160Zm440 0h160v-160H620v160Z\"/>\n",
              "  </svg>\n",
              "    </button>\n",
              "\n",
              "  <style>\n",
              "    .colab-df-container {\n",
              "      display:flex;\n",
              "      gap: 12px;\n",
              "    }\n",
              "\n",
              "    .colab-df-convert {\n",
              "      background-color: #E8F0FE;\n",
              "      border: none;\n",
              "      border-radius: 50%;\n",
              "      cursor: pointer;\n",
              "      display: none;\n",
              "      fill: #1967D2;\n",
              "      height: 32px;\n",
              "      padding: 0 0 0 0;\n",
              "      width: 32px;\n",
              "    }\n",
              "\n",
              "    .colab-df-convert:hover {\n",
              "      background-color: #E2EBFA;\n",
              "      box-shadow: 0px 1px 2px rgba(60, 64, 67, 0.3), 0px 1px 3px 1px rgba(60, 64, 67, 0.15);\n",
              "      fill: #174EA6;\n",
              "    }\n",
              "\n",
              "    .colab-df-buttons div {\n",
              "      margin-bottom: 4px;\n",
              "    }\n",
              "\n",
              "    [theme=dark] .colab-df-convert {\n",
              "      background-color: #3B4455;\n",
              "      fill: #D2E3FC;\n",
              "    }\n",
              "\n",
              "    [theme=dark] .colab-df-convert:hover {\n",
              "      background-color: #434B5C;\n",
              "      box-shadow: 0px 1px 3px 1px rgba(0, 0, 0, 0.15);\n",
              "      filter: drop-shadow(0px 1px 2px rgba(0, 0, 0, 0.3));\n",
              "      fill: #FFFFFF;\n",
              "    }\n",
              "  </style>\n",
              "\n",
              "    <script>\n",
              "      const buttonEl =\n",
              "        document.querySelector('#df-d92ba569-be49-485e-8908-d622eb672dfb button.colab-df-convert');\n",
              "      buttonEl.style.display =\n",
              "        google.colab.kernel.accessAllowed ? 'block' : 'none';\n",
              "\n",
              "      async function convertToInteractive(key) {\n",
              "        const element = document.querySelector('#df-d92ba569-be49-485e-8908-d622eb672dfb');\n",
              "        const dataTable =\n",
              "          await google.colab.kernel.invokeFunction('convertToInteractive',\n",
              "                                                    [key], {});\n",
              "        if (!dataTable) return;\n",
              "\n",
              "        const docLinkHtml = 'Like what you see? Visit the ' +\n",
              "          '<a target=\"_blank\" href=https://colab.research.google.com/notebooks/data_table.ipynb>data table notebook</a>'\n",
              "          + ' to learn more about interactive tables.';\n",
              "        element.innerHTML = '';\n",
              "        dataTable['output_type'] = 'display_data';\n",
              "        await google.colab.output.renderOutput(dataTable, element);\n",
              "        const docLink = document.createElement('div');\n",
              "        docLink.innerHTML = docLinkHtml;\n",
              "        element.appendChild(docLink);\n",
              "      }\n",
              "    </script>\n",
              "  </div>\n",
              "\n",
              "\n",
              "<div id=\"df-2140256e-fb5d-46ec-910c-71742cfb606d\">\n",
              "  <button class=\"colab-df-quickchart\" onclick=\"quickchart('df-2140256e-fb5d-46ec-910c-71742cfb606d')\"\n",
              "            title=\"Suggest charts\"\n",
              "            style=\"display:none;\">\n",
              "\n",
              "<svg xmlns=\"http://www.w3.org/2000/svg\" height=\"24px\"viewBox=\"0 0 24 24\"\n",
              "     width=\"24px\">\n",
              "    <g>\n",
              "        <path d=\"M19 3H5c-1.1 0-2 .9-2 2v14c0 1.1.9 2 2 2h14c1.1 0 2-.9 2-2V5c0-1.1-.9-2-2-2zM9 17H7v-7h2v7zm4 0h-2V7h2v10zm4 0h-2v-4h2v4z\"/>\n",
              "    </g>\n",
              "</svg>\n",
              "  </button>\n",
              "\n",
              "<style>\n",
              "  .colab-df-quickchart {\n",
              "      --bg-color: #E8F0FE;\n",
              "      --fill-color: #1967D2;\n",
              "      --hover-bg-color: #E2EBFA;\n",
              "      --hover-fill-color: #174EA6;\n",
              "      --disabled-fill-color: #AAA;\n",
              "      --disabled-bg-color: #DDD;\n",
              "  }\n",
              "\n",
              "  [theme=dark] .colab-df-quickchart {\n",
              "      --bg-color: #3B4455;\n",
              "      --fill-color: #D2E3FC;\n",
              "      --hover-bg-color: #434B5C;\n",
              "      --hover-fill-color: #FFFFFF;\n",
              "      --disabled-bg-color: #3B4455;\n",
              "      --disabled-fill-color: #666;\n",
              "  }\n",
              "\n",
              "  .colab-df-quickchart {\n",
              "    background-color: var(--bg-color);\n",
              "    border: none;\n",
              "    border-radius: 50%;\n",
              "    cursor: pointer;\n",
              "    display: none;\n",
              "    fill: var(--fill-color);\n",
              "    height: 32px;\n",
              "    padding: 0;\n",
              "    width: 32px;\n",
              "  }\n",
              "\n",
              "  .colab-df-quickchart:hover {\n",
              "    background-color: var(--hover-bg-color);\n",
              "    box-shadow: 0 1px 2px rgba(60, 64, 67, 0.3), 0 1px 3px 1px rgba(60, 64, 67, 0.15);\n",
              "    fill: var(--button-hover-fill-color);\n",
              "  }\n",
              "\n",
              "  .colab-df-quickchart-complete:disabled,\n",
              "  .colab-df-quickchart-complete:disabled:hover {\n",
              "    background-color: var(--disabled-bg-color);\n",
              "    fill: var(--disabled-fill-color);\n",
              "    box-shadow: none;\n",
              "  }\n",
              "\n",
              "  .colab-df-spinner {\n",
              "    border: 2px solid var(--fill-color);\n",
              "    border-color: transparent;\n",
              "    border-bottom-color: var(--fill-color);\n",
              "    animation:\n",
              "      spin 1s steps(1) infinite;\n",
              "  }\n",
              "\n",
              "  @keyframes spin {\n",
              "    0% {\n",
              "      border-color: transparent;\n",
              "      border-bottom-color: var(--fill-color);\n",
              "      border-left-color: var(--fill-color);\n",
              "    }\n",
              "    20% {\n",
              "      border-color: transparent;\n",
              "      border-left-color: var(--fill-color);\n",
              "      border-top-color: var(--fill-color);\n",
              "    }\n",
              "    30% {\n",
              "      border-color: transparent;\n",
              "      border-left-color: var(--fill-color);\n",
              "      border-top-color: var(--fill-color);\n",
              "      border-right-color: var(--fill-color);\n",
              "    }\n",
              "    40% {\n",
              "      border-color: transparent;\n",
              "      border-right-color: var(--fill-color);\n",
              "      border-top-color: var(--fill-color);\n",
              "    }\n",
              "    60% {\n",
              "      border-color: transparent;\n",
              "      border-right-color: var(--fill-color);\n",
              "    }\n",
              "    80% {\n",
              "      border-color: transparent;\n",
              "      border-right-color: var(--fill-color);\n",
              "      border-bottom-color: var(--fill-color);\n",
              "    }\n",
              "    90% {\n",
              "      border-color: transparent;\n",
              "      border-bottom-color: var(--fill-color);\n",
              "    }\n",
              "  }\n",
              "</style>\n",
              "\n",
              "  <script>\n",
              "    async function quickchart(key) {\n",
              "      const quickchartButtonEl =\n",
              "        document.querySelector('#' + key + ' button');\n",
              "      quickchartButtonEl.disabled = true;  // To prevent multiple clicks.\n",
              "      quickchartButtonEl.classList.add('colab-df-spinner');\n",
              "      try {\n",
              "        const charts = await google.colab.kernel.invokeFunction(\n",
              "            'suggestCharts', [key], {});\n",
              "      } catch (error) {\n",
              "        console.error('Error during call to suggestCharts:', error);\n",
              "      }\n",
              "      quickchartButtonEl.classList.remove('colab-df-spinner');\n",
              "      quickchartButtonEl.classList.add('colab-df-quickchart-complete');\n",
              "    }\n",
              "    (() => {\n",
              "      let quickchartButtonEl =\n",
              "        document.querySelector('#df-2140256e-fb5d-46ec-910c-71742cfb606d button');\n",
              "      quickchartButtonEl.style.display =\n",
              "        google.colab.kernel.accessAllowed ? 'block' : 'none';\n",
              "    })();\n",
              "  </script>\n",
              "</div>\n",
              "    </div>\n",
              "  </div>\n"
            ]
          },
          "metadata": {},
          "execution_count": 175
        }
      ]
    },
    {
      "cell_type": "markdown",
      "source": [
        " **Вывод по дополнению:**  Если взять равное количество строк, то есть людей, в этом случае, можно увидеть более правдоподобную, высокую зависимость между признаками возраст, гемоглобин и наличие диабета.\n"
      ],
      "metadata": {
        "id": "ysjy4NEYQprg"
      }
    },
    {
      "cell_type": "markdown",
      "source": [
        "### **6 вопрос:**"
      ],
      "metadata": {
        "id": "RuPXgjCCN_Zh"
      }
    },
    {
      "cell_type": "markdown",
      "source": [
        "*Проверим, каково процентное соотношение болезней сердца среди людей с диабетом?*"
      ],
      "metadata": {
        "id": "7_4sykwPOFGW"
      }
    },
    {
      "cell_type": "code",
      "source": [
        "heart_disease_counts = df[df['diabetes'] == 1]['heart_disease'].value_counts()\n",
        "plt.pie(heart_disease_counts, labels=heart_disease_counts.index, autopct='%1.1f%%')\n",
        "plt.title('Процентное соотношение болезней сердца, встречающихся у людей с диабетом: ')\n",
        "plt.legend(['0-болезни сердца отсутствуют', '1-есть болезни сердца'], title='Наличие болезней сердца:', bbox_to_anchor=( 1.05 , 1 ), loc='upper left', borderaxespad= 0)\n"
      ],
      "metadata": {
        "colab": {
          "base_uri": "https://localhost:8080/",
          "height": 447
        },
        "id": "DhgebuCXVBEM",
        "outputId": "0e732109-8dbb-4615-ffcd-e266db13dec3"
      },
      "execution_count": 176,
      "outputs": [
        {
          "output_type": "execute_result",
          "data": {
            "text/plain": [
              "<matplotlib.legend.Legend at 0x7a94d1f18730>"
            ]
          },
          "metadata": {},
          "execution_count": 176
        },
        {
          "output_type": "display_data",
          "data": {
            "text/plain": [
              "<Figure size 640x480 with 1 Axes>"
            ],
            "image/png": "[encoded data removed]"
          },
          "metadata": {}
        }
      ]
    },
    {
      "cell_type": "markdown",
      "source": [
        "**Делая вывод по 6 вопросу**, можно отметить, что болезни сердца не так сильно влияют на наличие диабета у человека. Смотря на график, мы видим, что большинство диабетиков не имеют болезней сердца.\n"
      ],
      "metadata": {
        "id": "8nqSyehcnhP1"
      }
    },
    {
      "cell_type": "markdown",
      "source": [
        "### **7 вопрос:**"
      ],
      "metadata": {
        "id": "bPEPyeRwagB6"
      }
    },
    {
      "cell_type": "markdown",
      "source": [
        "*Каково процентное содержание диабетиков среди каждой категории истории курения?*"
      ],
      "metadata": {
        "id": "B91q9BzJea9U"
      }
    },
    {
      "cell_type": "code",
      "source": [
        "smoking_history_diabetes = df[df['diabetes'] == 1]['smoking_history'].value_counts()\n",
        "plt.pie(smoking_history_diabetes, labels=smoking_history_diabetes.index, autopct='%1.1f%%')\n",
        "plt.title('Процентное содержание диабетиков в каждой категории '\"'История курения'\"' ')\n",
        "plt.legend (title='история курения')\n",
        "plt.legend(['never-никогда не курил', 'former-бывший курильщик', 'No info-нет информации', 'current-текущий курильщик', 'no current-в данный момент не курит', 'ever-всегда курил'], title='История курения:', bbox_to_anchor=( 1.05 , 1 ), loc='upper left', borderaxespad= 0)\n"
      ],
      "metadata": {
        "colab": {
          "base_uri": "https://localhost:8080/",
          "height": 447
        },
        "id": "_H1EXLD-aqUu",
        "outputId": "9b52d073-e873-45eb-aacb-70c4567a5c30"
      },
      "execution_count": 177,
      "outputs": [
        {
          "output_type": "execute_result",
          "data": {
            "text/plain": [
              "<matplotlib.legend.Legend at 0x7a94d1d86a10>"
            ]
          },
          "metadata": {},
          "execution_count": 177
        },
        {
          "output_type": "display_data",
          "data": {
            "text/plain": [
              "<Figure size 640x480 with 1 Axes>"
            ],
            "image/png": "[encoded data removed]"
          },
          "metadata": {}
        }
      ]
    },
    {
      "cell_type": "markdown",
      "source": [
        "**Делая вывод по 7 вопросу**, можно отметить, что большинство диабетиков никогда не курили (39,4%), но при этом 18,7% из них бывшие курильщики и лишь 5,6% из них курили на протяжении всей жизни. Следовательно, мы можем сказать, что история курения, предположительно, не оказывает сильного влияния на наличие диабета, ведь большинство из опрошенных диабетиков никогда не употребляли табак, но все равно получили такое заболевание, как диабет."
      ],
      "metadata": {
        "id": "aU5-2PsJes0J"
      }
    },
    {
      "cell_type": "markdown",
      "source": [
        "# **Общий вывод: ✅**\n",
        "\n"
      ],
      "metadata": {
        "id": "X3kjhgvk0Y88"
      }
    },
    {
      "cell_type": "markdown",
      "source": [
        "-Большая часть данных в данном dataframe принадлежит к женскому полу (примерно 59 тысяч человек), в то время как количество мужчин составляет 40 тысяч человек.\n",
        "\n",
        "-Анализ возрастного признака в связи с наличием/отсутствием диабета не показал значительной зависимости. Аналогично, не было обнаружено связи между гендерным признаком и наличием/отсутствием диабета.\n",
        "\n",
        "-Однако, обнаружена зависимость между высоким уровнем гемоглобина и наличием диабета. Люди старшего возраста (60-75 лет), у которых отмечается повышенный уровень гемоглобина, имеют больший риск развития диабета.\n",
        "\n",
        "-Риск развития диабета также увеличивается при повышенном уровне глюкозы в крови.\n",
        "\n",
        "-Наличие болезней сердца не оказывает сильного влияния на наличие диабета у человека, так как большинство диабетиков не страдает от сердечных заболеваний.\n",
        "\n",
        "-История курения представляется непринципиальной влияющим фактором на наличие диабета. Большинство диабетиков никогда не курили, однако небольшая доля представляет собой бывших или активных курильщиков.\n",
        "\n",
        "В целом, данная сводка позволяет проанализировать связи и зависимости в dataframe и сделать некоторые общие выводы о риске и факторах, связанных с развитием диабета."
      ],
      "metadata": {
        "id": "itZcPfSP4_Tn"
      }
    }
  ]
}